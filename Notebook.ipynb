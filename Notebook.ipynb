{
 "cells": [
  {
   "cell_type": "code",
   "execution_count": 4,
   "metadata": {},
   "outputs": [],
   "source": [
    "from models.yolo import YOLOv3\n",
    "import tensorflow as tf"
   ]
  },
  {
   "cell_type": "code",
   "execution_count": 7,
   "metadata": {},
   "outputs": [],
   "source": [
    "yolo = YOLOv3()\n",
    "\n",
    "#Download weights from: https://pjreddie.com/media/files/yolov3.weights\n",
    "#You can also download other cfg and weights from https://pjreddie.com/darknet/yolo/\n",
    "yolo.load_model('yolov3.cfg','yolov3.weights')\n",
    "\n",
    "#Change these parameters if a different model is used.\n",
    "yolo.anchors = tf.constant([[(116,90), (156,198), (373,326)], [(30,61), (62,45), (59,119)], [(10,13), (16,30), (33,23)]],dtype='float32')\n",
    "yolo.model_image_w = 608 #input image width of the model\n",
    "yolo.model_image_h = 608 #input image height of the model\n",
    "\n",
    "#Prediction parameters. Play around if you like.\n",
    "yolo.prediction_threshold = 0.7 #prediction probability below which the prediction is rejected\n",
    "yolo.max_boxes = 100  #Max number of bounding boxes to show in the output video stream\n",
    "yolo.iou_threshold = 0.3 #Non-max suppression threshold."
   ]
  },
  {
   "cell_type": "code",
   "execution_count": 11,
   "metadata": {
    "scrolled": true
   },
   "outputs": [
    {
     "name": "stdout",
     "output_type": "stream",
     "text": [
      "Input Buffer\n"
     ]
    },
    {
     "data": {
      "application/vnd.jupyter.widget-view+json": {
       "model_id": "ff63f0b20f994475b46487e44810a418",
       "version_major": 2,
       "version_minor": 0
      },
      "text/plain": [
       "IntProgress(value=0, max=5)"
      ]
     },
     "metadata": {},
     "output_type": "display_data"
    },
    {
     "name": "stdout",
     "output_type": "stream",
     "text": [
      "Output Buffer\n"
     ]
    },
    {
     "data": {
      "application/vnd.jupyter.widget-view+json": {
       "model_id": "cae7116ff7b24a30a08f68336b12a82a",
       "version_major": 2,
       "version_minor": 0
      },
      "text/plain": [
       "IntProgress(value=0, max=30)"
      ]
     },
     "metadata": {},
     "output_type": "display_data"
    },
    {
     "name": "stdout",
     "output_type": "stream",
     "text": [
      "Decode Time\n"
     ]
    },
    {
     "data": {
      "application/vnd.jupyter.widget-view+json": {
       "model_id": "5ce265e8fb0447c4a420f7e1ab4184fb",
       "version_major": 2,
       "version_minor": 0
      },
      "text/plain": [
       "Text(value='')"
      ]
     },
     "metadata": {},
     "output_type": "display_data"
    },
    {
     "name": "stdout",
     "output_type": "stream",
     "text": [
      "Render Time\n"
     ]
    },
    {
     "data": {
      "application/vnd.jupyter.widget-view+json": {
       "model_id": "c6ad2bb214394f54a2b67d566b4c7961",
       "version_major": 2,
       "version_minor": 0
      },
      "text/plain": [
       "Text(value='')"
      ]
     },
     "metadata": {},
     "output_type": "display_data"
    },
    {
     "name": "stdout",
     "output_type": "stream",
     "text": [
      "(720, 1280)\n",
      "View Ended\n",
      "Read Ended\n",
      "Inference Ended\n"
     ]
    }
   ],
   "source": [
    "yolo.input_buffer_size = 30 #Higher number => less skipped frames but more output latency.\n",
    "yolo.output_buffer_size = 30 #Doesn't matter much. Rendering is much faster than inference.\n",
    "yolo.run_threaded(source = 'city.mp4') # use source 'webcam' for built-in webcam or type file location."
   ]
  },
  {
   "cell_type": "code",
   "execution_count": 6,
   "metadata": {},
   "outputs": [],
   "source": [
    "import cv2\n",
    "temp = cv2.VideoCapture('a.mp4')\n"
   ]
  },
  {
   "cell_type": "code",
   "execution_count": null,
   "metadata": {},
   "outputs": [],
   "source": []
  },
  {
   "cell_type": "code",
   "execution_count": 4,
   "metadata": {},
   "outputs": [
    {
     "name": "stdout",
     "output_type": "stream",
     "text": [
      "Inference Ended\n",
      "Read Ended\n",
      "View Ended\n"
     ]
    }
   ],
   "source": [
    "yolo.stop()"
   ]
  }
 ],
 "metadata": {
  "kernelspec": {
   "display_name": "Python 3",
   "language": "python",
   "name": "python3"
  },
  "language_info": {
   "codemirror_mode": {
    "name": "ipython",
    "version": 3
   },
   "file_extension": ".py",
   "mimetype": "text/x-python",
   "name": "python",
   "nbconvert_exporter": "python",
   "pygments_lexer": "ipython3",
   "version": "3.7.4"
  }
 },
 "nbformat": 4,
 "nbformat_minor": 4
}
