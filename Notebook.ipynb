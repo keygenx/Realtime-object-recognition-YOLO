{
 "cells": [
  {
   "cell_type": "code",
   "execution_count": 1,
   "metadata": {},
   "outputs": [],
   "source": [
    "from models.yolo import YOLOv3\n",
    "import tensorflow as tf"
   ]
  },
  {
   "cell_type": "code",
   "execution_count": 2,
   "metadata": {},
   "outputs": [],
   "source": [
    "yolo = YOLOv3()\n",
    "\n",
    "#Download weights from: https://pjreddie.com/media/files/yolov3.weights\n",
    "#You can also download other cfg and weights from https://pjreddie.com/darknet/yolo/\n",
    "yolo.load_model('yolov3.cfg','yolov3.weights')"
   ]
  },
  {
   "cell_type": "code",
   "execution_count": 3,
   "metadata": {},
   "outputs": [],
   "source": [
    "#Change these parameters if a different model is used.\n",
    "yolo.anchors = tf.constant([[(116,90), (156,198), (373,326)], [(30,61), (62,45), (59,119)], [(10,13), (16,30), (33,23)]],dtype='float32')\n",
    "yolo.model_image_w = 608 #input image width of the model\n",
    "yolo.model_image_h = 608 #input image height of the model\n",
    "\n",
    "#Prediction parameters. Play around if you like.\n",
    "yolo.prediction_threshold = 0.6 #prediction probability below which the prediction is rejected\n",
    "yolo.max_boxes = 100  #Max number of bounding boxes to show in the output video stream\n",
    "yolo.iou_threshold = 0.3 #Non-max suppression threshold."
   ]
  },
  {
   "cell_type": "code",
   "execution_count": 4,
   "metadata": {
    "scrolled": false
   },
   "outputs": [
    {
     "name": "stdout",
     "output_type": "stream",
     "text": [
      "Input Buffer\n"
     ]
    },
    {
     "data": {
      "application/vnd.jupyter.widget-view+json": {
       "model_id": "596dac482f8c430baf1e91756ae81f5c",
       "version_major": 2,
       "version_minor": 0
      },
      "text/plain": [
       "IntProgress(value=0, max=30)"
      ]
     },
     "metadata": {},
     "output_type": "display_data"
    },
    {
     "name": "stdout",
     "output_type": "stream",
     "text": [
      "Output Buffer\n"
     ]
    },
    {
     "data": {
      "application/vnd.jupyter.widget-view+json": {
       "model_id": "80c154a24d8f4469ae6189814da2248d",
       "version_major": 2,
       "version_minor": 0
      },
      "text/plain": [
       "IntProgress(value=0, max=30)"
      ]
     },
     "metadata": {},
     "output_type": "display_data"
    },
    {
     "data": {
      "text/plain": [
       "'Inference Time (s): 0.049'"
      ]
     },
     "metadata": {},
     "output_type": "display_data"
    },
    {
     "data": {
      "text/plain": [
       "'Render Time (s): 0.003'"
      ]
     },
     "metadata": {},
     "output_type": "display_data"
    },
    {
     "name": "stdout",
     "output_type": "stream",
     "text": [
      "View Ended\n",
      "Read Ended\n",
      "Inference Ended\n"
     ]
    }
   ],
   "source": [
    "yolo.input_buffer_size = 30 #Higher number => less skipped frames but more output latency.\n",
    "yolo.output_buffer_size = 30 #Doesn't matter much. Rendering is much faster than inference.\n",
    "yolo.run_threaded(source = 'city.mp4', buffer_viz=True) # use source 'webcam' for built-in webcam or type file location."
   ]
  },
  {
   "cell_type": "code",
   "execution_count": null,
   "metadata": {},
   "outputs": [],
   "source": [
    "yolo.stop() #stop object recognition"
   ]
  },
  {
   "cell_type": "code",
   "execution_count": 7,
   "metadata": {},
   "outputs": [
    {
     "data": {
      "text/plain": [
       "'Test10'"
      ]
     },
     "metadata": {},
     "output_type": "display_data"
    }
   ],
   "source": [
    "from IPython.display import display\n",
    "from time import sleep\n",
    "dh = display('Test2',display_id=True)"
   ]
  },
  {
   "cell_type": "code",
   "execution_count": 9,
   "metadata": {},
   "outputs": [],
   "source": [
    "\n",
    "dh.update('Test10')"
   ]
  }
 ],
 "metadata": {
  "kernelspec": {
   "display_name": "Python 3",
   "language": "python",
   "name": "python3"
  },
  "language_info": {
   "codemirror_mode": {
    "name": "ipython",
    "version": 3
   },
   "file_extension": ".py",
   "mimetype": "text/x-python",
   "name": "python",
   "nbconvert_exporter": "python",
   "pygments_lexer": "ipython3",
   "version": "3.7.4"
  }
 },
 "nbformat": 4,
 "nbformat_minor": 4
}
