{
 "cells": [
  {
   "cell_type": "code",
   "execution_count": 4,
   "metadata": {},
   "outputs": [],
   "source": [
    "from models.yolo import YOLOv3"
   ]
  },
  {
   "cell_type": "code",
   "execution_count": 5,
   "metadata": {},
   "outputs": [],
   "source": [
    "yolo = YOLOv3()\n",
    "yolo.load_model('yolo_coco_608x608.h5')"
   ]
  },
  {
   "cell_type": "code",
   "execution_count": 6,
   "metadata": {
    "scrolled": true
   },
   "outputs": [
    {
     "name": "stdout",
     "output_type": "stream",
     "text": [
      "Input Buffer\n"
     ]
    },
    {
     "data": {
      "application/vnd.jupyter.widget-view+json": {
       "model_id": "cb1f613ba2c44f33bb21f3bf73bf4481",
       "version_major": 2,
       "version_minor": 0
      },
      "text/plain": [
       "IntProgress(value=0, max=30)"
      ]
     },
     "metadata": {},
     "output_type": "display_data"
    },
    {
     "name": "stdout",
     "output_type": "stream",
     "text": [
      "Output Buffer\n"
     ]
    },
    {
     "data": {
      "application/vnd.jupyter.widget-view+json": {
       "model_id": "787fd43cdff24676b0e7f19b9856152c",
       "version_major": 2,
       "version_minor": 0
      },
      "text/plain": [
       "IntProgress(value=0, max=30)"
      ]
     },
     "metadata": {},
     "output_type": "display_data"
    },
    {
     "name": "stdout",
     "output_type": "stream",
     "text": [
      "Decode Time\n"
     ]
    },
    {
     "data": {
      "application/vnd.jupyter.widget-view+json": {
       "model_id": "27fb4b116d63466ea19108d795f7603a",
       "version_major": 2,
       "version_minor": 0
      },
      "text/plain": [
       "FloatProgress(value=0.0, max=0.05)"
      ]
     },
     "metadata": {},
     "output_type": "display_data"
    },
    {
     "name": "stdout",
     "output_type": "stream",
     "text": [
      "Render Time\n"
     ]
    },
    {
     "data": {
      "application/vnd.jupyter.widget-view+json": {
       "model_id": "5e54e2de0706493ab15c312a316d6d1a",
       "version_major": 2,
       "version_minor": 0
      },
      "text/plain": [
       "FloatProgress(value=0.0, max=0.033)"
      ]
     },
     "metadata": {},
     "output_type": "display_data"
    },
    {
     "name": "stdout",
     "output_type": "stream",
     "text": [
      "(480, 640)\n",
      "View Ended\n",
      "Inference Ended\n",
      "Read Ended\n"
     ]
    }
   ],
   "source": [
    "yolo.prediction_threshold = 0.6\n",
    "yolo.iou_threshold = 0.3\n",
    "yolo.run_threaded(source = 'webcam') # use source 'webcam' for built-in webcam or type file location."
   ]
  },
  {
   "cell_type": "code",
   "execution_count": 6,
   "metadata": {},
   "outputs": [],
   "source": [
    "import cv2\n",
    "temp = cv2.VideoCapture('a.mp4')\n"
   ]
  },
  {
   "cell_type": "code",
   "execution_count": 7,
   "metadata": {},
   "outputs": [
    {
     "name": "stderr",
     "output_type": "stream",
     "text": [
      "WARNING: Could not generate requirement for distribution -xnet-cu101 1.5.0 (c:\\programdata\\anaconda3\\lib\\site-packages): Parse error at \"'-xnet-cu'\": Expected W:(abcd...)\n",
      "WARNING: Could not generate requirement for distribution -upy-cuda101 7.6.0 (c:\\programdata\\anaconda3\\lib\\site-packages): Parse error at \"'-upy-cud'\": Expected W:(abcd...)\n",
      "WARNING: Could not generate requirement for distribution -pencv-python 4.4.0.44 (c:\\programdata\\anaconda3\\lib\\site-packages): Parse error at \"'-pencv-p'\": Expected W:(abcd...)\n",
      "WARNING: Could not generate requirement for distribution -ensorflow-gpu 2.2.0 (c:\\programdata\\anaconda3\\lib\\site-packages): Parse error at \"'-ensorfl'\": Expected W:(abcd...)\n",
      "WARNING: Could not generate requirement for distribution -cipy 1.3.1 (c:\\programdata\\anaconda3\\lib\\site-packages): Parse error at \"'-cipy==1'\": Expected W:(abcd...)\n"
     ]
    }
   ],
   "source": [
    "!pip freeze > requirements.txt"
   ]
  }
 ],
 "metadata": {
  "kernelspec": {
   "display_name": "Python 3",
   "language": "python",
   "name": "python3"
  },
  "language_info": {
   "codemirror_mode": {
    "name": "ipython",
    "version": 3
   },
   "file_extension": ".py",
   "mimetype": "text/x-python",
   "name": "python",
   "nbconvert_exporter": "python",
   "pygments_lexer": "ipython3",
   "version": "3.7.4"
  }
 },
 "nbformat": 4,
 "nbformat_minor": 4
}
